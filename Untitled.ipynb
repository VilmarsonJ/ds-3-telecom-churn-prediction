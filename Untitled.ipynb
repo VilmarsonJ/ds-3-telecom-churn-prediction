{
 "cells": [
  {
   "cell_type": "markdown",
   "metadata": {},
   "source": [
    "# Akademi Education X Flatiron School - Data Science & AI\n",
    "---\n",
    "\n",
    "- **Student name :** Vilmarson JULES\n",
    "- **Student pace :** self pace\n",
    "- **Deadline Submission :** July 27, 2025 \n",
    "- **Instructors' Name :** Wedter Jerome & Geovany Batista Polo Laguerre\n",
    "- **GitHub Repository:** [Movie-Insights Project](https://github.com/VilmarsonJ/ds-2-movie-insights)  \n",
    "- **LinkedIn:** [Vilmarson JULES](https://www.linkedin.com/in/jules-vilmarson-2a68a5294/)\n"
   ]
  },
  {
   "cell_type": "code",
   "execution_count": null,
   "metadata": {},
   "outputs": [],
   "source": []
  },
  {
   "cell_type": "code",
   "execution_count": null,
   "metadata": {},
   "outputs": [],
   "source": []
  },
  {
   "cell_type": "markdown",
   "metadata": {},
   "source": [
    "Project Overview\n",
    "\n",
    "This project focuses on predicting customer churn for DIGICEL Haiti, a leading telecommunications provider. The goal is to build a machine learning classification model that identifies customers at high risk of leaving the company’s services. By leveraging historical customer data, including usage patterns, service plans, and billing information, the project aims to uncover patterns that indicate churn."
   ]
  },
  {
   "cell_type": "code",
   "execution_count": null,
   "metadata": {},
   "outputs": [],
   "source": []
  },
  {
   "cell_type": "code",
   "execution_count": null,
   "metadata": {},
   "outputs": [],
   "source": []
  },
  {
   "cell_type": "markdown",
   "metadata": {},
   "source": [
    "Problem: DIGICEL has noticed that a significant number of customers are leaving their services for competitors, which leads to decreased revenue and higher customer acquisition costs. However, the company currently does not have a reliable way to identify which customers are at risk of leaving before it happens. This makes it difficult to implement effective retention strategies proactively."
   ]
  },
  {
   "cell_type": "markdown",
   "metadata": {},
   "source": [
    "Your Role / Objective: As a Data Analyst / Machine Learning Specialist at DIGICEL, I am tasked with developing a predictive model that can accurately identify customers at high risk of churn. By providing these insights, I will enable DIGICEL’s marketing and retention teams to take targeted actions (such as personalized promotions, loyalty programs, or service improvements) to reduce churn, improve customer satisfaction, and protect the company’s revenue."
   ]
  },
  {
   "cell_type": "code",
   "execution_count": null,
   "metadata": {},
   "outputs": [],
   "source": []
  },
  {
   "cell_type": "markdown",
   "metadata": {},
   "source": [
    "## The Data\n",
    "\n",
    "The dataset for this project is publicly available on Kaggle: [Churn in Telecoms Dataset](https://www.kaggle.com/datasets/becksddf/churn-in-telecoms-dataset)\n",
    ". It is provided in CSV format (inside a ZIP file) and contains customer account details, usage patterns, and service plans for a telecommunications company.\n",
    "This dataset will be used throughout Phase 3 to explore, preprocess, and model customer churn, forming the basis for all analyses and predictions in the project."
   ]
  },
  {
   "cell_type": "markdown",
   "metadata": {},
   "source": [
    "This project follows a predictive modeling approach focused on classification to predict customer churn. The main steps are:\n",
    "\n",
    "1. Data Preprocessing\n",
    "\n",
    "Encode categorical features.\n",
    "\n",
    "Scale numerical features.\n",
    "\n",
    "Split the data into training and testing sets.\n",
    "\n",
    "2. Modeling\n",
    "\n",
    "Build a baseline classification model (Logistic Regression or single Decision Tree).\n",
    "\n",
    "Explore additional models (e.g., Decision Tree regression).\n",
    "\n",
    "Tune hyperparameters for improved performance.\n",
    "\n",
    "3. Model Evaluation\n",
    "\n",
    "Evaluate models using classification metrics.\n",
    "\n",
    "Compare models iteratively to select the best one.\n",
    "\n",
    "4. Insights and Recommendations\n",
    "\n",
    "Identify key drivers of churn.\n",
    "\n",
    "Provide actionable recommendations.\n",
    "\n",
    "Discuss model limitations and reliability."
   ]
  },
  {
   "cell_type": "markdown",
   "metadata": {},
   "source": [
    "Methods\n",
    "\n",
    "In this project, we follow a predictive modeling approach focused on classification, using historical customer data to predict churn. Unlike Phase 1 and 2, which emphasized exploratory, diagnostic, and descriptive analysis, Phase 3 is fully focused on machine learning and predictive insights."
   ]
  },
  {
   "cell_type": "code",
   "execution_count": null,
   "metadata": {},
   "outputs": [],
   "source": []
  },
  {
   "cell_type": "markdown",
   "metadata": {},
   "source": [
    "This project follows a predictive modeling approach focused on classification to predict customer churn. The main steps are:\n",
    "\n",
    "1. Data Preprocessing\n",
    "\n",
    "Encode categorical features.\n",
    "\n",
    "Scale numerical features.\n",
    "\n",
    "Split the data into training and testing sets.\n",
    "\n",
    "2. Modeling\n",
    "\n",
    "Build a baseline classification model (Logistic Regression or single Decision Tree).\n",
    "\n",
    "Explore additional models (e.g., Decision Tree regression).\n",
    "\n",
    "Tune hyperparameters for improved performance.\n",
    "\n",
    "3. Model Evaluation\n",
    "\n",
    "Evaluate models using classification metrics.\n",
    "\n",
    "Compare models iteratively to select the best one.\n",
    "\n",
    "4. Insights and Recommendations\n",
    "\n",
    "Identify key drivers of churn.\n",
    "\n",
    "Provide actionable recommendations.\n",
    "\n",
    "Discuss model limitations and reliability."
   ]
  },
  {
   "cell_type": "code",
   "execution_count": null,
   "metadata": {},
   "outputs": [],
   "source": []
  },
  {
   "cell_type": "markdown",
   "metadata": {},
   "source": [
    "Data Understanding\n",
    "\n",
    "Before building predictive models, it is important to gain a clear understanding of the dataset. This involves exploring the structure, types of features, data quality, and potential relationships that may help predict customer churn. Understanding the data ensures that subsequent preprocessing and modeling steps are well-informed and effective."
   ]
  },
  {
   "cell_type": "code",
   "execution_count": 3,
   "metadata": {},
   "outputs": [],
   "source": [
    "import zipfile  # ← make sure to import this\n",
    "# -----------------------------\n",
    "# Data Handling\n",
    "# -----------------------------\n",
    "import pandas as pd\n",
    "import numpy as np\n",
    "# Data Visualization\n",
    "import matplotlib.pyplot as plt\n",
    "import seaborn as sns\n",
    "\n",
    "# Optional: improve plot aesthetics\n",
    "sns.set(style=\"whitegrid\")\n",
    "plt.style.use(\"seaborn-darkgrid\")\n",
    "# Preprocessing & Feature Engineering\n",
    "from sklearn.model_selection import train_test_split\n",
    "from sklearn.preprocessing import StandardScaler, MinMaxScaler\n",
    "from sklearn.preprocessing import OneHotEncoder, LabelEncoder\n",
    "from sklearn.compose import ColumnTransformer\n",
    "from sklearn.pipeline import Pipeline\n",
    "# Machine Learning Models\n",
    "from sklearn.linear_model import LogisticRegression\n",
    "from sklearn.tree import DecisionTreeClassifier\n",
    "from sklearn.ensemble import RandomForestClassifier\n",
    "# Model Evaluation Metrics\n",
    "# -----------------------------\n",
    "from sklearn.metrics import accuracy_score, precision_score, recall_score, f1_score\n",
    "from sklearn.metrics import confusion_matrix, classification_report, roc_auc_score, roc_curve\n",
    "# Optional: Hyperparameter Tuning\n",
    "# -----------------------------\n",
    "from sklearn.model_selection import GridSearchCV, RandomizedSearchCV\n",
    "# Misc\n",
    "import warnings\n",
    "warnings.filterwarnings(\"ignore\")\n"
   ]
  },
  {
   "cell_type": "code",
   "execution_count": null,
   "metadata": {},
   "outputs": [],
   "source": []
  },
  {
   "cell_type": "code",
   "execution_count": null,
   "metadata": {},
   "outputs": [],
   "source": []
  },
  {
   "cell_type": "code",
   "execution_count": null,
   "metadata": {},
   "outputs": [],
   "source": []
  },
  {
   "cell_type": "code",
   "execution_count": 5,
   "metadata": {
    "scrolled": false
   },
   "outputs": [
    {
     "name": "stdout",
     "output_type": "stream",
     "text": [
      "['bigml_59c28831336c6604c800002a.csv']\n",
      "(3333, 21)\n"
     ]
    },
    {
     "data": {
      "text/html": [
       "<div>\n",
       "<style scoped>\n",
       "    .dataframe tbody tr th:only-of-type {\n",
       "        vertical-align: middle;\n",
       "    }\n",
       "\n",
       "    .dataframe tbody tr th {\n",
       "        vertical-align: top;\n",
       "    }\n",
       "\n",
       "    .dataframe thead th {\n",
       "        text-align: right;\n",
       "    }\n",
       "</style>\n",
       "<table border=\"1\" class=\"dataframe\">\n",
       "  <thead>\n",
       "    <tr style=\"text-align: right;\">\n",
       "      <th></th>\n",
       "      <th>state</th>\n",
       "      <th>account length</th>\n",
       "      <th>area code</th>\n",
       "      <th>phone number</th>\n",
       "      <th>international plan</th>\n",
       "      <th>voice mail plan</th>\n",
       "      <th>number vmail messages</th>\n",
       "      <th>total day minutes</th>\n",
       "      <th>total day calls</th>\n",
       "      <th>total day charge</th>\n",
       "      <th>...</th>\n",
       "      <th>total eve calls</th>\n",
       "      <th>total eve charge</th>\n",
       "      <th>total night minutes</th>\n",
       "      <th>total night calls</th>\n",
       "      <th>total night charge</th>\n",
       "      <th>total intl minutes</th>\n",
       "      <th>total intl calls</th>\n",
       "      <th>total intl charge</th>\n",
       "      <th>customer service calls</th>\n",
       "      <th>churn</th>\n",
       "    </tr>\n",
       "  </thead>\n",
       "  <tbody>\n",
       "    <tr>\n",
       "      <th>0</th>\n",
       "      <td>KS</td>\n",
       "      <td>128</td>\n",
       "      <td>415</td>\n",
       "      <td>382-4657</td>\n",
       "      <td>no</td>\n",
       "      <td>yes</td>\n",
       "      <td>25</td>\n",
       "      <td>265.1</td>\n",
       "      <td>110</td>\n",
       "      <td>45.07</td>\n",
       "      <td>...</td>\n",
       "      <td>99</td>\n",
       "      <td>16.78</td>\n",
       "      <td>244.7</td>\n",
       "      <td>91</td>\n",
       "      <td>11.01</td>\n",
       "      <td>10.0</td>\n",
       "      <td>3</td>\n",
       "      <td>2.70</td>\n",
       "      <td>1</td>\n",
       "      <td>False</td>\n",
       "    </tr>\n",
       "    <tr>\n",
       "      <th>1</th>\n",
       "      <td>OH</td>\n",
       "      <td>107</td>\n",
       "      <td>415</td>\n",
       "      <td>371-7191</td>\n",
       "      <td>no</td>\n",
       "      <td>yes</td>\n",
       "      <td>26</td>\n",
       "      <td>161.6</td>\n",
       "      <td>123</td>\n",
       "      <td>27.47</td>\n",
       "      <td>...</td>\n",
       "      <td>103</td>\n",
       "      <td>16.62</td>\n",
       "      <td>254.4</td>\n",
       "      <td>103</td>\n",
       "      <td>11.45</td>\n",
       "      <td>13.7</td>\n",
       "      <td>3</td>\n",
       "      <td>3.70</td>\n",
       "      <td>1</td>\n",
       "      <td>False</td>\n",
       "    </tr>\n",
       "    <tr>\n",
       "      <th>2</th>\n",
       "      <td>NJ</td>\n",
       "      <td>137</td>\n",
       "      <td>415</td>\n",
       "      <td>358-1921</td>\n",
       "      <td>no</td>\n",
       "      <td>no</td>\n",
       "      <td>0</td>\n",
       "      <td>243.4</td>\n",
       "      <td>114</td>\n",
       "      <td>41.38</td>\n",
       "      <td>...</td>\n",
       "      <td>110</td>\n",
       "      <td>10.30</td>\n",
       "      <td>162.6</td>\n",
       "      <td>104</td>\n",
       "      <td>7.32</td>\n",
       "      <td>12.2</td>\n",
       "      <td>5</td>\n",
       "      <td>3.29</td>\n",
       "      <td>0</td>\n",
       "      <td>False</td>\n",
       "    </tr>\n",
       "    <tr>\n",
       "      <th>3</th>\n",
       "      <td>OH</td>\n",
       "      <td>84</td>\n",
       "      <td>408</td>\n",
       "      <td>375-9999</td>\n",
       "      <td>yes</td>\n",
       "      <td>no</td>\n",
       "      <td>0</td>\n",
       "      <td>299.4</td>\n",
       "      <td>71</td>\n",
       "      <td>50.90</td>\n",
       "      <td>...</td>\n",
       "      <td>88</td>\n",
       "      <td>5.26</td>\n",
       "      <td>196.9</td>\n",
       "      <td>89</td>\n",
       "      <td>8.86</td>\n",
       "      <td>6.6</td>\n",
       "      <td>7</td>\n",
       "      <td>1.78</td>\n",
       "      <td>2</td>\n",
       "      <td>False</td>\n",
       "    </tr>\n",
       "    <tr>\n",
       "      <th>4</th>\n",
       "      <td>OK</td>\n",
       "      <td>75</td>\n",
       "      <td>415</td>\n",
       "      <td>330-6626</td>\n",
       "      <td>yes</td>\n",
       "      <td>no</td>\n",
       "      <td>0</td>\n",
       "      <td>166.7</td>\n",
       "      <td>113</td>\n",
       "      <td>28.34</td>\n",
       "      <td>...</td>\n",
       "      <td>122</td>\n",
       "      <td>12.61</td>\n",
       "      <td>186.9</td>\n",
       "      <td>121</td>\n",
       "      <td>8.41</td>\n",
       "      <td>10.1</td>\n",
       "      <td>3</td>\n",
       "      <td>2.73</td>\n",
       "      <td>3</td>\n",
       "      <td>False</td>\n",
       "    </tr>\n",
       "  </tbody>\n",
       "</table>\n",
       "<p>5 rows × 21 columns</p>\n",
       "</div>"
      ],
      "text/plain": [
       "  state  account length  area code phone number international plan  \\\n",
       "0    KS             128        415     382-4657                 no   \n",
       "1    OH             107        415     371-7191                 no   \n",
       "2    NJ             137        415     358-1921                 no   \n",
       "3    OH              84        408     375-9999                yes   \n",
       "4    OK              75        415     330-6626                yes   \n",
       "\n",
       "  voice mail plan  number vmail messages  total day minutes  total day calls  \\\n",
       "0             yes                     25              265.1              110   \n",
       "1             yes                     26              161.6              123   \n",
       "2              no                      0              243.4              114   \n",
       "3              no                      0              299.4               71   \n",
       "4              no                      0              166.7              113   \n",
       "\n",
       "   total day charge  ...  total eve calls  total eve charge  \\\n",
       "0             45.07  ...               99             16.78   \n",
       "1             27.47  ...              103             16.62   \n",
       "2             41.38  ...              110             10.30   \n",
       "3             50.90  ...               88              5.26   \n",
       "4             28.34  ...              122             12.61   \n",
       "\n",
       "   total night minutes  total night calls  total night charge  \\\n",
       "0                244.7                 91               11.01   \n",
       "1                254.4                103               11.45   \n",
       "2                162.6                104                7.32   \n",
       "3                196.9                 89                8.86   \n",
       "4                186.9                121                8.41   \n",
       "\n",
       "   total intl minutes  total intl calls  total intl charge  \\\n",
       "0                10.0                 3               2.70   \n",
       "1                13.7                 3               3.70   \n",
       "2                12.2                 5               3.29   \n",
       "3                 6.6                 7               1.78   \n",
       "4                10.1                 3               2.73   \n",
       "\n",
       "   customer service calls  churn  \n",
       "0                       1  False  \n",
       "1                       1  False  \n",
       "2                       0  False  \n",
       "3                       2  False  \n",
       "4                       3  False  \n",
       "\n",
       "[5 rows x 21 columns]"
      ]
     },
     "execution_count": 5,
     "metadata": {},
     "output_type": "execute_result"
    }
   ],
   "source": [
    "\n",
    "# Path to your zip file\n",
    "zip_path = \"archive.zip\"\n",
    "\n",
    "# Extract the csv from the zip\n",
    "with zipfile.ZipFile(zip_path, 'r') as z:\n",
    "    z.extractall(\"data\")  # extract contents to a folder named \"data\"\n",
    "    print(z.namelist())   # show what files are inside\n",
    "\n",
    "# Load the csv into pandas\n",
    "bigml = pd.read_csv(\"data/bigml_59c28831336c6604c800002a.csv\")\n",
    "\n",
    "# Quick look at the data\n",
    "bigml.head()\n",
    "print(bigml.shape)\n",
    "# print(df.info())\n",
    "\n",
    "bigml.head()\n"
   ]
  },
  {
   "cell_type": "code",
   "execution_count": 10,
   "metadata": {},
   "outputs": [
    {
     "data": {
      "text/plain": [
       "Index(['state', 'account length', 'area code', 'phone number',\n",
       "       'international plan', 'voice mail plan', 'number vmail messages',\n",
       "       'total day minutes', 'total day calls', 'total day charge',\n",
       "       'total eve minutes', 'total eve calls', 'total eve charge',\n",
       "       'total night minutes', 'total night calls', 'total night charge',\n",
       "       'total intl minutes', 'total intl calls', 'total intl charge',\n",
       "       'customer service calls', 'churn'],\n",
       "      dtype='object')"
      ]
     },
     "execution_count": 10,
     "metadata": {},
     "output_type": "execute_result"
    }
   ],
   "source": [
    "bigml.columns"
   ]
  },
  {
   "cell_type": "code",
   "execution_count": 6,
   "metadata": {},
   "outputs": [
    {
     "data": {
      "text/plain": [
       "(3333, 21)"
      ]
     },
     "execution_count": 6,
     "metadata": {},
     "output_type": "execute_result"
    }
   ],
   "source": [
    "bigml.shape"
   ]
  },
  {
   "cell_type": "code",
   "execution_count": 8,
   "metadata": {},
   "outputs": [
    {
     "name": "stdout",
     "output_type": "stream",
     "text": [
      "<class 'pandas.core.frame.DataFrame'>\n",
      "RangeIndex: 3333 entries, 0 to 3332\n",
      "Data columns (total 21 columns):\n",
      " #   Column                  Non-Null Count  Dtype  \n",
      "---  ------                  --------------  -----  \n",
      " 0   state                   3333 non-null   object \n",
      " 1   account length          3333 non-null   int64  \n",
      " 2   area code               3333 non-null   int64  \n",
      " 3   phone number            3333 non-null   object \n",
      " 4   international plan      3333 non-null   object \n",
      " 5   voice mail plan         3333 non-null   object \n",
      " 6   number vmail messages   3333 non-null   int64  \n",
      " 7   total day minutes       3333 non-null   float64\n",
      " 8   total day calls         3333 non-null   int64  \n",
      " 9   total day charge        3333 non-null   float64\n",
      " 10  total eve minutes       3333 non-null   float64\n",
      " 11  total eve calls         3333 non-null   int64  \n",
      " 12  total eve charge        3333 non-null   float64\n",
      " 13  total night minutes     3333 non-null   float64\n",
      " 14  total night calls       3333 non-null   int64  \n",
      " 15  total night charge      3333 non-null   float64\n",
      " 16  total intl minutes      3333 non-null   float64\n",
      " 17  total intl calls        3333 non-null   int64  \n",
      " 18  total intl charge       3333 non-null   float64\n",
      " 19  customer service calls  3333 non-null   int64  \n",
      " 20  churn                   3333 non-null   bool   \n",
      "dtypes: bool(1), float64(8), int64(8), object(4)\n",
      "memory usage: 524.2+ KB\n"
     ]
    }
   ],
   "source": [
    "bigml.info()"
   ]
  },
  {
   "cell_type": "code",
   "execution_count": 9,
   "metadata": {},
   "outputs": [
    {
     "data": {
      "text/plain": [
       "state                     0\n",
       "account length            0\n",
       "area code                 0\n",
       "phone number              0\n",
       "international plan        0\n",
       "voice mail plan           0\n",
       "number vmail messages     0\n",
       "total day minutes         0\n",
       "total day calls           0\n",
       "total day charge          0\n",
       "total eve minutes         0\n",
       "total eve calls           0\n",
       "total eve charge          0\n",
       "total night minutes       0\n",
       "total night calls         0\n",
       "total night charge        0\n",
       "total intl minutes        0\n",
       "total intl calls          0\n",
       "total intl charge         0\n",
       "customer service calls    0\n",
       "churn                     0\n",
       "dtype: int64"
      ]
     },
     "execution_count": 9,
     "metadata": {},
     "output_type": "execute_result"
    }
   ],
   "source": [
    "bigml.isna().sum()"
   ]
  },
  {
   "cell_type": "code",
   "execution_count": null,
   "metadata": {},
   "outputs": [],
   "source": []
  },
  {
   "cell_type": "markdown",
   "metadata": {},
   "source": [
    "The dataset contains 3,333 customer records from a telecommunications company, with 21 features describing customer account details, usage patterns, and service plans. This data will be used to predict customer churn."
   ]
  },
  {
   "cell_type": "code",
   "execution_count": null,
   "metadata": {},
   "outputs": [],
   "source": []
  },
  {
   "cell_type": "markdown",
   "metadata": {},
   "source": [
    "## Implications for analysis:\n",
    "\n",
    "The dataset is clean and ready for modeling after preprocessing categorical variables and scaling numerical features where needed.\n",
    "\n",
    "Both customer behavior (usage & support calls) and service plans are likely to be informative for predicting churn.\n",
    "\n",
    "Early exploration suggests opportunities for feature engineering (e.g., combining call minutes and charges, or encoding plans)."
   ]
  },
  {
   "cell_type": "code",
   "execution_count": null,
   "metadata": {},
   "outputs": [],
   "source": []
  },
  {
   "cell_type": "code",
   "execution_count": null,
   "metadata": {},
   "outputs": [],
   "source": []
  },
  {
   "cell_type": "markdown",
   "metadata": {},
   "source": [
    "## Data Preprocessing"
   ]
  },
  {
   "cell_type": "code",
   "execution_count": null,
   "metadata": {},
   "outputs": [],
   "source": []
  },
  {
   "cell_type": "markdown",
   "metadata": {},
   "source": [
    "Before building predictive models, we need to prepare the data. This includes encoding categorical features, scaling numerical features, and splitting the dataset into training and testing sets. Proper preprocessing ensures that models can learn effectively and generalize well to unseen data."
   ]
  },
  {
   "cell_type": "code",
   "execution_count": null,
   "metadata": {},
   "outputs": [],
   "source": []
  },
  {
   "cell_type": "code",
   "execution_count": 12,
   "metadata": {},
   "outputs": [
    {
     "name": "stdout",
     "output_type": "stream",
     "text": [
      "Training features shape: (2666, 69)\n",
      "Testing features shape: (667, 69)\n"
     ]
    }
   ],
   "source": [
    "# Import necessary packages for preprocessing\n",
    "from sklearn.model_selection import train_test_split\n",
    "from sklearn.preprocessing import StandardScaler, OneHotEncoder\n",
    "from sklearn.compose import ColumnTransformer\n",
    "from sklearn.pipeline import Pipeline\n",
    "import pandas as pd\n",
    "\n",
    "# Separate features and target\n",
    "X = bigml.drop(columns=['churn', 'phone number'])  # Drop target and irrelevant column\n",
    "y = bigml['churn']\n",
    "\n",
    "# Identify categorical and numerical features\n",
    "categorical_features = ['state', 'area code', 'international plan', 'voice mail plan']\n",
    "numerical_features = ['account length', 'number vmail messages', 'total day minutes', \n",
    "                      'total day calls', 'total day charge', 'total eve minutes', \n",
    "                      'total eve calls', 'total eve charge', 'total night minutes', \n",
    "                      'total night calls', 'total night charge', 'total intl minutes', \n",
    "                      'total intl calls', 'total intl charge', 'customer service calls']\n",
    "\n",
    "# Preprocessing for categorical data: One-hot encoding\n",
    "categorical_transformer = OneHotEncoder(drop='first')  # drop first to avoid dummy variable trap\n",
    "\n",
    "# Preprocessing for numerical data: Scaling\n",
    "numerical_transformer = StandardScaler()\n",
    "\n",
    "# Combine transformations using ColumnTransformer\n",
    "preprocessor = ColumnTransformer(\n",
    "    transformers=[\n",
    "        ('num', numerical_transformer, numerical_features),\n",
    "        ('cat', categorical_transformer, categorical_features)\n",
    "    ])\n",
    "\n",
    "# Split the data into training and testing sets (80% train, 20% test)\n",
    "X_train, X_test, y_train, y_test = train_test_split(X, y, test_size=0.2, random_state=42, stratify=y)\n",
    "\n",
    "# Fit the preprocessor on the training data and transform both training and testing sets\n",
    "X_train_processed = preprocessor.fit_transform(X_train)\n",
    "X_test_processed = preprocessor.transform(X_test)\n",
    "\n",
    "# Quick check of shapes\n",
    "print(\"Training features shape:\", X_train_processed.shape)\n",
    "print(\"Testing features shape:\", X_test_processed.shape)\n"
   ]
  },
  {
   "cell_type": "code",
   "execution_count": null,
   "metadata": {},
   "outputs": [],
   "source": []
  },
  {
   "cell_type": "markdown",
   "metadata": {},
   "source": [
    "# 2. Modeling\n",
    "\n",
    "This section focuses on building predictive models to classify which customers are likely to churn. We will start with a baseline Logistic Regression model for interpretability, then explore a Decision Tree model to capture non-linear relationships and feature interactions."
   ]
  },
  {
   "cell_type": "code",
   "execution_count": null,
   "metadata": {},
   "outputs": [],
   "source": []
  },
  {
   "cell_type": "code",
   "execution_count": 13,
   "metadata": {},
   "outputs": [
    {
     "name": "stdout",
     "output_type": "stream",
     "text": [
      "Logistic Regression - Training Accuracy: 0.8705926481620405\n",
      "Logistic Regression - Testing Accuracy: 0.8605697151424287\n",
      "\n",
      "Classification Report (Test Set):\n",
      "               precision    recall  f1-score   support\n",
      "\n",
      "       False       0.88      0.96      0.92       570\n",
      "        True       0.54      0.26      0.35        97\n",
      "\n",
      "    accuracy                           0.86       667\n",
      "   macro avg       0.71      0.61      0.64       667\n",
      "weighted avg       0.83      0.86      0.84       667\n",
      "\n"
     ]
    }
   ],
   "source": [
    "# Import models and evaluation metrics\n",
    "from sklearn.linear_model import LogisticRegression\n",
    "from sklearn.tree import DecisionTreeClassifier\n",
    "from sklearn.metrics import accuracy_score, precision_score, recall_score, f1_score, roc_auc_score, classification_report\n",
    "\n",
    "# ------------------------\n",
    "# Baseline Logistic Regression\n",
    "# ------------------------\n",
    "log_model = LogisticRegression(random_state=42, max_iter=1000)\n",
    "log_model.fit(X_train_processed, y_train)\n",
    "\n",
    "# Predictions\n",
    "y_train_pred_log = log_model.predict(X_train_processed)\n",
    "y_test_pred_log = log_model.predict(X_test_processed)\n",
    "\n",
    "# Evaluation\n",
    "print(\"Logistic Regression - Training Accuracy:\", accuracy_score(y_train, y_train_pred_log))\n",
    "print(\"Logistic Regression - Testing Accuracy:\", accuracy_score(y_test, y_test_pred_log))\n",
    "print(\"\\nClassification Report (Test Set):\\n\", classification_report(y_test, y_test_pred_log))\n"
   ]
  },
  {
   "cell_type": "code",
   "execution_count": null,
   "metadata": {},
   "outputs": [],
   "source": []
  },
  {
   "cell_type": "markdown",
   "metadata": {},
   "source": [
    "Interpretation of Logistic Regression Results\n",
    "\n",
    "The baseline Logistic Regression model shows:\n",
    "\n",
    "Training Accuracy: ~87%\n",
    "\n",
    "Testing Accuracy: ~86%\n",
    "\n",
    "These values indicate that the model generalizes well from the training data to unseen test data, with no significant overfitting.\n",
    "\n",
    "Detailed Metrics (Test Set)\n",
    "\n",
    "False (non-churn) customers:\n",
    "\n",
    "Precision: 0.88 → when the model predicts a customer will stay, it is correct 88% of the time.\n",
    "\n",
    "Recall: 0.96 → the model correctly identifies 96% of customers who actually stay.\n",
    "\n",
    "True (churn) customers:\n",
    "\n",
    "Precision: 0.54 → when the model predicts churn, it is correct only 54% of the time.\n",
    "\n",
    "Recall: 0.26 → the model captures only 26% of actual churners.\n",
    "\n",
    "Business Implications\n",
    "\n",
    "The model is very good at identifying loyal customers but struggles to correctly predict churners.\n",
    "\n",
    "For DIGICEL, this means using the model as-is would lead to many missed churn cases, limiting proactive retention efforts.\n",
    "\n",
    "To improve retention strategy, the company may consider tuning the model, exploring alternative models (e.g., Decision Tree, Random Forest), or engineering additional features to better capture churn patterns.\n",
    "\n",
    "Scientific Perspective\n",
    "\n",
    "The model demonstrates high overall accuracy due to the class imbalance (more non-churn than churn).\n",
    "\n",
    "F1-score for churn (0.35) highlights that the model’s performance on the minority class is weak, which is common in imbalanced classification tasks.\n",
    "\n",
    "Future steps could include resampling techniques, class weighting, or more complex models to better predict churn without sacrificing interpretability."
   ]
  },
  {
   "cell_type": "code",
   "execution_count": null,
   "metadata": {},
   "outputs": [],
   "source": []
  },
  {
   "cell_type": "code",
   "execution_count": null,
   "metadata": {},
   "outputs": [],
   "source": []
  },
  {
   "cell_type": "code",
   "execution_count": null,
   "metadata": {},
   "outputs": [],
   "source": []
  },
  {
   "cell_type": "code",
   "execution_count": null,
   "metadata": {},
   "outputs": [],
   "source": []
  },
  {
   "cell_type": "code",
   "execution_count": null,
   "metadata": {},
   "outputs": [],
   "source": []
  },
  {
   "cell_type": "code",
   "execution_count": null,
   "metadata": {},
   "outputs": [],
   "source": []
  },
  {
   "cell_type": "code",
   "execution_count": null,
   "metadata": {},
   "outputs": [],
   "source": []
  }
 ],
 "metadata": {
  "kernelspec": {
   "display_name": "Python (learn-env)",
   "language": "python",
   "name": "learn-env"
  },
  "language_info": {
   "codemirror_mode": {
    "name": "ipython",
    "version": 3
   },
   "file_extension": ".py",
   "mimetype": "text/x-python",
   "name": "python",
   "nbconvert_exporter": "python",
   "pygments_lexer": "ipython3",
   "version": "3.8.5"
  }
 },
 "nbformat": 4,
 "nbformat_minor": 4
}
